{
 "cells": [
  {
   "cell_type": "code",
   "execution_count": null,
   "metadata": {},
   "outputs": [],
   "source": [
    "def make_album(artist_name,album_title):\n",
    "  \n",
    "    person = {'name': artist_name, 'album': album_title}\n",
    "    print(person)\n",
    "make_album(\"hammad\",\"333\")"
   ]
  },
  {
   "cell_type": "code",
   "execution_count": null,
   "metadata": {},
   "outputs": [],
   "source": [
    "#sir\n",
    "def make_album(artist_name,album_title):\n",
    "    person = {'artist_name': artist_name, 'album_title': album_title}\n",
    "    return person    \n",
    "    "
   ]
  },
  {
   "cell_type": "code",
   "execution_count": null,
   "metadata": {},
   "outputs": [],
   "source": [
    "make_album(\"hammad\" , \"555\")"
   ]
  },
  {
   "cell_type": "code",
   "execution_count": null,
   "metadata": {},
   "outputs": [],
   "source": [
    "album_1 = make_album(\"sami\",\"33\")"
   ]
  },
  {
   "cell_type": "code",
   "execution_count": null,
   "metadata": {},
   "outputs": [],
   "source": [
    "album_2 = make_album(\"zia\",\"999\")"
   ]
  },
  {
   "cell_type": "code",
   "execution_count": null,
   "metadata": {},
   "outputs": [],
   "source": [
    "make_album(album_1,album_2)"
   ]
  },
  {
   "cell_type": "code",
   "execution_count": null,
   "metadata": {},
   "outputs": [],
   "source": [
    "def make_album(artist_name,album_title,trackes = \" \"):\n",
    "    person = {'artist_name': artist_name, 'album_title': album_title}\n",
    "    if trackes:\n",
    "        person['trackes'] = trackes\n",
    "    return person"
   ]
  },
  {
   "cell_type": "code",
   "execution_count": null,
   "metadata": {},
   "outputs": [],
   "source": [
    "album_1 = make_album(\"sami\",\"33\",12)\n",
    "album_2 = make_album(\"zia\",\"999\")"
   ]
  },
  {
   "cell_type": "code",
   "execution_count": null,
   "metadata": {},
   "outputs": [],
   "source": [
    "print(album_1,album_2)"
   ]
  },
  {
   "cell_type": "code",
   "execution_count": null,
   "metadata": {},
   "outputs": [],
   "source": [
    "def player(name,num):\n",
    "    dic = {\"name\":name,\"num\":num}\n",
    "    return dic\n",
    "player(\"hammad\",41)"
   ]
  },
  {
   "cell_type": "code",
   "execution_count": null,
   "metadata": {},
   "outputs": [],
   "source": [
    "player_1 = player(\"sami\",99)\n"
   ]
  },
  {
   "cell_type": "code",
   "execution_count": null,
   "metadata": {},
   "outputs": [],
   "source": [
    "player_2 = player(\"ebad\",45)"
   ]
  },
  {
   "cell_type": "code",
   "execution_count": null,
   "metadata": {},
   "outputs": [],
   "source": [
    "\n",
    "print(player_1,player_2)"
   ]
  },
  {
   "cell_type": "code",
   "execution_count": null,
   "metadata": {},
   "outputs": [],
   "source": [
    "def player(name,num,hight=\" \"):\n",
    "    dic = {\"name\":name,\"num\":num}\n",
    "    if hight:\n",
    "        dic['hight'] = hight\n",
    "    return dic\n",
    "player(\"hammad\",41)"
   ]
  },
  {
   "cell_type": "code",
   "execution_count": null,
   "metadata": {},
   "outputs": [],
   "source": [
    "player_1 = player(\"sami\",99,6.5)\n",
    "player_2 = player(\"ebad\",45,5.4)\n",
    "player_3 = player(\"ebad\",45)"
   ]
  },
  {
   "cell_type": "code",
   "execution_count": null,
   "metadata": {},
   "outputs": [],
   "source": [
    "print(player_1,player_2,player_3)"
   ]
  },
  {
   "cell_type": "code",
   "execution_count": null,
   "metadata": {},
   "outputs": [],
   "source": [
    "dicti = {}\n",
    "def make_album(artist_name,album_title,trackes):\n",
    "    \n",
    "    while True:\n",
    "        artist = input(\"enter a artist name\")\n",
    "        album = input(\"enter a album\")\n",
    "        trackes = int(input(\"enter a num\"))\n",
    "        user = input(\"cont to yes r exit to no\")\n",
    "        if user == \"exit\":\n",
    "            break\n",
    "       \n",
    "        if artist:\n",
    "            dicti[\"artist\"] = artist\n",
    "        if album:\n",
    "            dicti[\"album\"] = album\n",
    "        if trackes:\n",
    "            dicti[\"trackes\"] = trackes\n",
    "        \n",
    "    return dicti"
   ]
  },
  {
   "cell_type": "code",
   "execution_count": null,
   "metadata": {},
   "outputs": [],
   "source": [
    "make_album(\"hammad\",55,55)\n",
    "\n",
    "\n",
    "\n",
    "\n",
    "for i in dicti:\n",
    "    print(i)"
   ]
  },
  {
   "cell_type": "code",
   "execution_count": null,
   "metadata": {},
   "outputs": [],
   "source": [
    "def salary_calculator(basic_salary):\n",
    "    tax_ded = 0\n",
    "    if basic_salary < 30000:\n",
    "        tax_ded = 0\n",
    "    elif basic_salary >= 30000 and basic_salary < 50000:\n",
    "        tax_ded = 5\n",
    "    elif basic_salary >= 50000 and basic_salary < 100000:\n",
    "        tax_ded = 10\n",
    "    else:\n",
    "        tax_ded = 15\n",
    "    total_ded =  basic_salary * tax_ded /100\n",
    "    grows_salary = basic_salary - total_ded\n",
    "    return grows_salary"
   ]
  },
  {
   "cell_type": "code",
   "execution_count": null,
   "metadata": {},
   "outputs": [],
   "source": [
    "basic_salary = input(\"enter a basic salary of employ\")\n",
    "basic_salary = int(basic_salary)\n",
    "\n",
    "\n",
    "\n",
    "\n",
    "grows_salary=salary_calculator(basic_salary)\n",
    "print(f\"the grows salary of the employ is {grows_salary}\")"
   ]
  },
  {
   "cell_type": "code",
   "execution_count": null,
   "metadata": {},
   "outputs": [],
   "source": [
    "def text_cal():\n",
    "    tax_ded = 0\n",
    "    if basic_salary < 30000:\n",
    "        tax_ded = 0\n",
    "    elif basic_salary >= 30000 and basic_salary < 50000:\n",
    "        tax_ded = 5\n",
    "    elif basic_salary >= 50000 and basic_salary < 100000:\n",
    "        tax_ded = 10\n",
    "    else:\n",
    "        tax_ded = 15\n",
    "    total_ded = text_cal(basic_salary)\n",
    "    return total_ded"
   ]
  },
  {
   "cell_type": "code",
   "execution_count": 5,
   "metadata": {},
   "outputs": [],
   "source": [
    "def salary_calculator(basic_salary):\n",
    "    grows_salary = basic_salary - text_cal(basic_salary)\n",
    "    return grows_salary\n",
    "def text_cal(basic_salary):\n",
    "    tax_ded = 0\n",
    "    if basic_salary < 30000:\n",
    "        tax_ded = 0\n",
    "    elif basic_salary >= 30000 and basic_salary < 50000:\n",
    "        tax_ded = 5\n",
    "    elif basic_salary >= 50000 and basic_salary < 100000:\n",
    "        tax_ded = 10\n",
    "    else:\n",
    "        tax_ded = 15\n",
    "    tot_tax = basic_salary * tax_ded /100\n",
    "    return tot_tax\n",
    "    \n",
    "    "
   ]
  },
  {
   "cell_type": "code",
   "execution_count": 8,
   "metadata": {},
   "outputs": [
    {
     "name": "stdout",
     "output_type": "stream",
     "text": [
      "enter a salary100000\n",
      "85000.0\n"
     ]
    }
   ],
   "source": [
    "basic_salary = int(input(\"enter a salary\"))\n",
    "gross_salary=salary_calculator(basic_salary)\n",
    "print(gross_salary)"
   ]
  },
  {
   "cell_type": "code",
   "execution_count": null,
   "metadata": {},
   "outputs": [],
   "source": []
  }
 ],
 "metadata": {
  "kernelspec": {
   "display_name": "Python 3",
   "language": "python",
   "name": "python3"
  },
  "language_info": {
   "codemirror_mode": {
    "name": "ipython",
    "version": 3
   },
   "file_extension": ".py",
   "mimetype": "text/x-python",
   "name": "python",
   "nbconvert_exporter": "python",
   "pygments_lexer": "ipython3",
   "version": "3.8.5"
  }
 },
 "nbformat": 4,
 "nbformat_minor": 4
}
