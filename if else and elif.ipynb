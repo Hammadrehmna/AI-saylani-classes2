{
 "cells": [
  {
   "cell_type": "code",
   "execution_count": 1,
   "metadata": {},
   "outputs": [],
   "source": [
    "age = 19\n",
    "if age>=18:\n",
    "    pass"
   ]
  },
  {
   "cell_type": "code",
   "execution_count": 2,
   "metadata": {},
   "outputs": [],
   "source": [
    "if age <= 18:\n",
    "    pass"
   ]
  },
  {
   "cell_type": "code",
   "execution_count": 3,
   "metadata": {},
   "outputs": [
    {
     "name": "stdout",
     "output_type": "stream",
     "text": [
      "hey hammad\n"
     ]
    }
   ],
   "source": [
    "name = \"hammad\"\n",
    "age = 18\n",
    "if name == \"hammad\":\n",
    "    print(\"hey \" + name)"
   ]
  },
  {
   "cell_type": "code",
   "execution_count": 6,
   "metadata": {},
   "outputs": [
    {
     "name": "stdout",
     "output_type": "stream",
     "text": [
      "present here\n"
     ]
    }
   ],
   "source": [
    "name = \"Sami\"\n",
    "if age >= 18:\n",
    "    print(\"present here\")"
   ]
  },
  {
   "cell_type": "code",
   "execution_count": 7,
   "metadata": {},
   "outputs": [
    {
     "name": "stdout",
     "output_type": "stream",
     "text": [
      "present here\n"
     ]
    }
   ],
   "source": [
    "if name[0] ==\"s\" or \"S\":\n",
    "    print(\"present here\")"
   ]
  },
  {
   "cell_type": "code",
   "execution_count": 30,
   "metadata": {},
   "outputs": [
    {
     "name": "stdout",
     "output_type": "stream",
     "text": [
      "enter your name! Hammad\n",
      "enter your age! 19\n",
      "not allowed\n"
     ]
    }
   ],
   "source": [
    "name = input(\"enter your name! \")\n",
    "age = int(input(\"enter your age! \"))\n",
    "if name ==\"Hammad\"  and age == 19:\n",
    "    print(\"Allow to enter \")\n",
    "else:\n",
    "    print(\"not allowed\")"
   ]
  },
  {
   "cell_type": "code",
   "execution_count": 33,
   "metadata": {},
   "outputs": [
    {
     "name": "stdout",
     "output_type": "stream",
     "text": [
      "enter a age78\n",
      "you above\n"
     ]
    }
   ],
   "source": [
    "age = int(input(\"enter a age\"))\n",
    "if age>=14:\n",
    "    print(\"you above\")\n",
    "else:\n",
    "    print(\"sorry you can't play\")"
   ]
  },
  {
   "cell_type": "code",
   "execution_count": 37,
   "metadata": {},
   "outputs": [
    {
     "name": "stdout",
     "output_type": "stream",
     "text": [
      "enter your namehammad\n",
      "enter your age18\n",
      "allowed to enter\n"
     ]
    }
   ],
   "source": [
    "name = input(\"enter your name\")\n",
    "age = int(input(\"enter your age\"))\n",
    "if name == \"hammad\" and age == 18:\n",
    "    print(\"allowed to enter\")\n",
    "else:\n",
    "    print(\"not allowed\")"
   ]
  },
  {
   "cell_type": "code",
   "execution_count": 39,
   "metadata": {},
   "outputs": [
    {
     "name": "stdout",
     "output_type": "stream",
     "text": [
      "enter your namehammad\n",
      "enter your age20\n",
      "allowed to enter\n"
     ]
    }
   ],
   "source": [
    "name = input(\"enter your name\")\n",
    "age = int(input(\"enter your age\"))\n",
    "if name == \"hammad\" or age == 18:\n",
    "    print(\"allowed to enter\")\n",
    "else:\n",
    "    print(\"not allowed\")"
   ]
  },
  {
   "cell_type": "code",
   "execution_count": 41,
   "metadata": {},
   "outputs": [
    {
     "name": "stdout",
     "output_type": "stream",
     "text": [
      "enter your age28\n",
      "allowed to job\n"
     ]
    }
   ],
   "source": [
    "age = int(input(\"enter your age\"))\n",
    "if age >=18 and age<= 40:\n",
    "    print(\"allowed to job\")\n",
    "else:\n",
    "    print(\"not allowed\")"
   ]
  },
  {
   "cell_type": "code",
   "execution_count": 45,
   "metadata": {},
   "outputs": [
    {
     "name": "stdout",
     "output_type": "stream",
     "text": [
      "enter your age100\n",
      "Tickets price : 30$\n"
     ]
    }
   ],
   "source": [
    "age = int(input(\"enter your age\"))\n",
    "if age >=3 and age<=10:\n",
    "    print(\"Tickets price : 5$\")\n",
    "elif age > 10 and age <=25:\n",
    "    print(\"Tickets price : 10$\")\n",
    "elif age > 25 and age<=50:\n",
    "    print(\"Tickets price : 20$\")\n",
    "else:\n",
    "    print(\"Tickets price : 30$\")"
   ]
  },
  {
   "cell_type": "code",
   "execution_count": 49,
   "metadata": {},
   "outputs": [
    {
     "name": "stdout",
     "output_type": "stream",
     "text": [
      "allowed\n"
     ]
    }
   ],
   "source": [
    "name = \"hammad\"\n",
    "if name[0] == \"H\" or name[0] == \"h\" :\n",
    "    print(\"allowed\")\n",
    "else:\n",
    "    print(\"not allowed\")"
   ]
  },
  {
   "cell_type": "code",
   "execution_count": 51,
   "metadata": {},
   "outputs": [
    {
     "name": "stdout",
     "output_type": "stream",
     "text": [
      "enter your namehammad\n",
      "enter your age20\n",
      "allowed\n"
     ]
    }
   ],
   "source": [
    "name = input(\"enter your name\")\n",
    "age = input(\"enter your age\")\n",
    "age = int(age)\n",
    "if (name[0] == \"H\" or name[0] == \"h\") and (age==18 or age==20):\n",
    "    print(\"allowed\")\n",
    "else:\n",
    "    print(\"not allowed\")"
   ]
  },
  {
   "cell_type": "code",
   "execution_count": null,
   "metadata": {},
   "outputs": [],
   "source": []
  }
 ],
 "metadata": {
  "kernelspec": {
   "display_name": "Python 3",
   "language": "python",
   "name": "python3"
  },
  "language_info": {
   "codemirror_mode": {
    "name": "ipython",
    "version": 3
   },
   "file_extension": ".py",
   "mimetype": "text/x-python",
   "name": "python",
   "nbconvert_exporter": "python",
   "pygments_lexer": "ipython3",
   "version": "3.8.3"
  }
 },
 "nbformat": 4,
 "nbformat_minor": 4
}
